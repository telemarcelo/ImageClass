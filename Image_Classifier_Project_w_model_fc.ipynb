{
  "cells": [
    {
      "cell_type": "markdown",
      "metadata": {
        "id": "Ah43Syeyuqo9"
      },
      "source": [
        "# Developing an AI application\n",
        "\n",
        "Going forward, AI algorithms will be incorporated into more and more everyday applications. For example, you might want to include an image classifier in a smart phone app. To do this, you'd use a deep learning model trained on hundreds of thousands of images as part of the overall application architecture. A large part of software development in the future will be using these types of models as common parts of applications. \n",
        "\n",
        "In this project, you'll train an image classifier to recognize different species of flowers. You can imagine using something like this in a phone app that tells you the name of the flower your camera is looking at. In practice you'd train this classifier, then export it for use in your application. We'll be using [this dataset](http://www.robots.ox.ac.uk/~vgg/data/flowers/102/index.html) of 102 flower categories, you can see a few examples below. \n",
        "\n",
        "<img src='assets/Flowers.png' width=500px>\n",
        "\n",
        "The project is broken down into multiple steps:\n",
        "\n",
        "* Load and preprocess the image dataset\n",
        "* Train the image classifier on your dataset\n",
        "* Use the trained classifier to predict image content\n",
        "\n",
        "We'll lead you through each part which you'll implement in Python.\n",
        "\n",
        "When you've completed this project, you'll have an application that can be trained on any set of labeled images. Here your network will be learning about flowers and end up as a command line application. But, what you do with your new skills depends on your imagination and effort in building a dataset. For example, imagine an app where you take a picture of a car, it tells you what the make and model is, then looks up information about it. Go build your own dataset and make something new.\n",
        "\n",
        "First up is importing the packages you'll need. It's good practice to keep all the imports at the beginning of your code. As you work through this notebook and find you need to import a package, make sure to add the import up here."
      ]
    },
    {
      "cell_type": "code",
      "execution_count": 1,
      "metadata": {
        "colab": {
          "base_uri": "https://localhost:8080/"
        },
        "id": "FdyOA2nywA5h",
        "outputId": "c1ca4db8-bf2d-4729-c2b3-9a66703734a1"
      },
      "outputs": [
        {
          "output_type": "stream",
          "name": "stdout",
          "text": [
            "Mounted at /content/gdrive/\n"
          ]
        }
      ],
      "source": [
        "#will remove\n",
        "import sys\n",
        "from google.colab import drive\n",
        "drive.mount('/content/gdrive/')\n",
        "\n",
        "home = '/content/gdrive/MyDrive/AI/submission/'\n",
        "sys.path.append(home)\n",
        "\n",
        "import shutil\n",
        "shutil.unpack_archive(home+'flowers/train.tar.gz')\n",
        "shutil.unpack_archive(home+'flowers/test.tar.gz')\n",
        "shutil.unpack_archive(home+'flowers/valid.tar.gz')\n",
        "\n"
      ]
    },
    {
      "cell_type": "code",
      "source": [
        "#helper_2\n",
        "\n",
        "import torch\n",
        "from torchvision import models\n",
        "\n",
        "def set_params(train_params): \n",
        "  if torch.cuda.is_available() and train_params['gpu']:\n",
        "    device = torch.device('cuda') \n",
        "  else:\n",
        "    device = torch.device('cpu')\n",
        "    train_params['gpu'] = False\n",
        "\n",
        "  train_params['device'] = device\n",
        "\n",
        "  # train_params['check_name']\n",
        "  train_params['check_name'] = ''\n",
        "  for prop in ['arch', 'hidden_units','learning_rate', 'epochs', 'gpu', 'drop_p']:\n",
        "    train_params['check_name'] += str(train_params.get(prop, '')) + \"_\"\n",
        "\n",
        "  print(train_params['check_name'])\n",
        "\n",
        "  train_params['report_dir'] = train_params['save_dir'] + 'reports/'\n",
        "  train_params['check_dir'] = train_params['save_dir']+ 'checkpoints/'\n",
        "\n",
        "  train_params['model_dict'] = {'resnet18': models.resnet18, 'resnet50' : models.resnet50, 'alexnet': models.alexnet, \n",
        "            'vgg16': models.vgg16, 'densenet121' : models.densenet121}\n",
        "\n",
        "  train_params['fcs'] = {'resnet18': ['fc',512], 'resnet50' : ['fc',2048],  'alexnet': ['classifier', 9216],\n",
        "        'vgg16': ['classifier', 25088], 'densenet121' : ['classifier',1024]}"
      ],
      "metadata": {
        "id": "VyDcwCflwy76"
      },
      "execution_count": null,
      "outputs": []
    },
    {
      "cell_type": "code",
      "source": [
        "#helper\n",
        "import torch\n",
        "from torch import nn, optim\n",
        "from torchvision import datasets, transforms, models\n",
        "from torchvision.transforms.autoaugment import TrivialAugmentWide\n",
        "\n",
        "def get_data(data_dir):\n",
        "    # data_dir = args.data_dir\n",
        "\n",
        "    train_dir = data_dir + 'train'\n",
        "    valid_dir = data_dir + 'valid'\n",
        "    test_dir = data_dir + 'test'\n",
        "    print(train_dir)\n",
        "\n",
        "    data_transforms = transforms.Compose([transforms.Resize(255), transforms.CenterCrop(224), transforms.ToTensor(),\n",
        "                                         transforms.Normalize([0.485, 0.456, 0.406],\n",
        "                                                                [0.229, 0.224, 0.225])])\n",
        "    train_transforms = transforms.Compose([transforms.RandomRotation(30), transforms.RandomResizedCrop(224),\n",
        "                                          transforms.RandomHorizontalFlip(), transforms.ToTensor(),\n",
        "                                          transforms.Normalize([0.485, 0.456, 0.406],\n",
        "                                                                [0.229, 0.224, 0.225])])\n",
        "    train_datasets = datasets.ImageFolder(train_dir, train_transforms)\n",
        "    # train_datasets = datasets.ImageFolder(train_dir, data_transforms)\n",
        "    test_datasets = datasets.ImageFolder(test_dir, data_transforms)\n",
        "    valid_datasets = datasets.ImageFolder(valid_dir, data_transforms)\n",
        "\n",
        "    trainloaders = torch.utils.data.DataLoader(train_datasets, batch_size = 64, shuffle = True)\n",
        "    testloaders = torch.utils.data.DataLoader(test_datasets, batch_size = 64, shuffle = False)\n",
        "    validloaders = torch.utils.data.DataLoader(valid_datasets, batch_size = 64, shuffle = False)\n",
        "    \n",
        "    return trainloaders, testloaders, validloaders, train_datasets.class_to_idx\n",
        "\n",
        "\n",
        "def save_checkpoint(params, model):\n",
        "  if hasattr(model, 'fc'):\n",
        "      m = model.fc\n",
        "  else:\n",
        "      m = model.classifier\n",
        "  \n",
        "  if m.hidden_layers:\n",
        "    hidden = [each.out_features for each in m.hidden_layers] \n",
        "  else:\n",
        "    hidden = []\n",
        "  check = {'input_size': params['fcs'][params['arch']][1],\n",
        "              'output_size': 102,\n",
        "              'hidden_layers': hidden,\n",
        "              'state_dict': m.state_dict(),\n",
        "              'params':params}\n",
        "  print(params['check_name'])\n",
        "  torch.save(check, params['save_dir']+'/checkpoints/' + params['check_name'] + '.pth')\n",
        "\n",
        "\n",
        "import signal\n",
        "\n",
        "from contextlib import contextmanager\n",
        "\n",
        "import requests\n",
        "\n",
        "\n",
        "DELAY = INTERVAL = 4 * 60  # interval time in seconds\n",
        "MIN_DELAY = MIN_INTERVAL = 2 * 60\n",
        "KEEPALIVE_URL = \"https://nebula.udacity.com/api/v1/remote/keep-alive\"\n",
        "TOKEN_URL = \"http://metadata.google.internal/computeMetadata/v1/instance/attributes/keep_alive_token\"\n",
        "TOKEN_HEADERS = {\"Metadata-Flavor\":\"Google\"}\n",
        "\n",
        "\n",
        "def _request_handler(headers):\n",
        "    def _handler(signum, frame):\n",
        "        requests.request(\"POST\", KEEPALIVE_URL, headers=headers)\n",
        "    return _handler\n",
        "\n",
        "  \n",
        "@contextmanager\n",
        "def active_session(delay=DELAY, interval=INTERVAL):\n",
        "    \"\"\"\n",
        "    Example:\n",
        "\n",
        "    from workspace_utils import active session\n",
        "\n",
        "    with active_session():\n",
        "        # do long-running work here\n",
        "    \"\"\"\n",
        "    print(1)\n",
        "    token = requests.request(\"GET\", TOKEN_URL, headers=TOKEN_HEADERS).text\n",
        "    print(1)\n",
        "    headers = {'Authorization': \"STAR \" + token}\n",
        "    delay = max(delay, MIN_DELAY)\n",
        "    interval = max(interval, MIN_INTERVAL)\n",
        "    original_handler = signal.getsignal(signal.SIGALRM)\n",
        "    try:\n",
        "        signal.signal(signal.SIGALRM, _request_handler(headers))\n",
        "        signal.setitimer(signal.ITIMER_REAL, delay, interval)\n",
        "        yield\n",
        "    finally:\n",
        "        signal.signal(signal.SIGALRM, original_handler)\n",
        "        signal.setitimer(signal.ITIMER_REAL, 0)\n",
        "\n",
        "\n",
        "def keep_awake(iterable, delay=DELAY, interval=INTERVAL):\n",
        "    \"\"\"\n",
        "    Example:\n",
        "\n",
        "    from workspace_utils import keep_awake\n",
        "\n",
        "    for i in keep_awake(range(5)):\n",
        "        # do iteration with lots of work here\n",
        "    \"\"\"\n",
        "    with active_session(delay, interval): yield from iterable\n"
      ],
      "metadata": {
        "id": "qigNDsXDw8V9"
      },
      "execution_count": null,
      "outputs": []
    },
    {
      "cell_type": "code",
      "source": [
        "#fc_model\n",
        "\n",
        "import torch\n",
        "from torch import nn\n",
        "import torch.nn.functional as F\n",
        "import os.path\n",
        "from helper import *\n",
        "\n",
        "\n",
        "class Network(nn.Module):\n",
        "    def __init__(self, input_size, output_size, hidden_layers = None, drop_p=0.5):\n",
        "        ''' Builds a feedforward network with arbitrary hidden layers.\n",
        "        \n",
        "            Arguments\n",
        "            ---------\n",
        "            input_size: integer, size of the input layer\n",
        "            output_size: integer, size of the output layer\n",
        "            hidden_layers: list of integers, the sizes of the hidden layers\n",
        "        \n",
        "        '''\n",
        "        super().__init__()\n",
        "        if len(hidden_layers) > 0: #hidden_layers\n",
        "          # Input to a hidden layer\n",
        "          self.hidden_layers = nn.ModuleList([nn.Linear(input_size, hidden_layers[0])])\n",
        "          \n",
        "          # Add a variable number of more hidden layers\n",
        "          layer_sizes = zip(hidden_layers[:-1], hidden_layers[1:])\n",
        "          self.hidden_layers.extend([nn.Linear(h1, h2) for h1, h2 in layer_sizes])\n",
        "          \n",
        "          self.output = nn.Linear(hidden_layers[-1], output_size)\n",
        "\n",
        "        else:\n",
        "          self.hidden_layers = None\n",
        "          self.output = nn.Linear(input_size, output_size)\n",
        "          \n",
        "        self.dropout = nn.Dropout(p=drop_p)\n",
        "        \n",
        "    def forward(self, x):\n",
        "        ''' Forward pass through the network, returns the output logits '''\n",
        "        # if self.hidden_layers:\n",
        "        if self.hidden_layers:\n",
        "            for each in self.hidden_layers:\n",
        "                x = F.relu(each(x))\n",
        "                x = self.dropout(x)\n",
        "        x = self.output(x)\n",
        "        \n",
        "        return F.log_softmax(x, dim=1)\n",
        "\n",
        "def load_model(params):\n",
        "    arch = params['arch']\n",
        "    model = params['model_dict'][arch](pretrained=True)\n",
        "    for param in model.parameters():\n",
        "      param.requires_grad = False\n",
        "\n",
        "    input_num = params['fcs'][arch][1]\n",
        "    hidden = params['hidden_units']\n",
        "    drop_p = params['drop_p']\n",
        "\n",
        "    c = Network(input_num, 102, hidden, drop_p)\n",
        "\n",
        "    check_path = params['check_dir'] + params['check_name'] + '.pth'\n",
        "    print(check_path)\n",
        "    if os.path.exists(check_path):\n",
        "      print('exists')\n",
        "      checkpt = torch.load(check_path)\n",
        "      c.load_state_dict(checkpt['state_dict'])\n",
        "\n",
        "    if hasattr(model, 'fc'):\n",
        "        model.fc = c\n",
        "    else:\n",
        "        model.classifier = c\n",
        "\n",
        "    return model, c\n",
        "\n",
        "\n",
        "def step(model, images, labels, device, trn = False):\n",
        "      if trn:\n",
        "        model.optimizer.zero_grad()\n",
        "\n",
        "      images, labels = images.to(device), labels.to(device)\n",
        "      log_ps = model(images)\n",
        "      loss = model.criterion(log_ps, labels)\n",
        "      \n",
        "      if trn:\n",
        "        loss.backward()\n",
        "        model.optimizer.step()\n",
        "      \n",
        "      ps = torch.exp(log_ps)\n",
        "      top_p, top_class = ps.topk(1, dim=1)\n",
        "      equals = top_class == labels.view(*top_class.shape)\n",
        "\n",
        "      accuracy = torch.mean(equals.type(torch.FloatTensor))\n",
        "      # print(equals)\n",
        "      print(f'Accuracy:{accuracy*100}% Loss: {loss.item()} -- {trn}')\n",
        "      return loss.item(), accuracy.item()\n",
        "\n",
        "\n",
        "\n",
        "def train(model, params, trainloader, testloader):\n",
        "  # steps = 0\n",
        "  save_file = f\"{params['report_dir']}/{params['arch']}/{params['check_name']}\"\n",
        "  # print(save_file)\n",
        "  # print(params)\n",
        "  for epoch in range(params['epochs']):\n",
        "      train_loss = 0\n",
        "      test_loss = 0\n",
        "      train_accuracy = 0\n",
        "      test_accuracy = 0\n",
        "\n",
        "      model.train()\n",
        "      for images, labels in trainloader:\n",
        "      # for i in range(20):\n",
        "        # images, labels = next(iter(trainloader))\n",
        "        loss, accuracy = step(model, images, labels, params['device'], True)\n",
        "        train_loss += loss\n",
        "        train_accuracy += accuracy\n",
        "  \n",
        "      save_checkpoint(params, model)\n",
        "\n",
        "      model.eval()\n",
        "      with torch.no_grad():\n",
        "        for images, labels in testloader:\n",
        "          loss, accuracy = step(model, images, labels, params['device'])\n",
        "          test_loss += loss\n",
        "          test_accuracy += accuracy\n",
        "            \n",
        "\n",
        "      with open(save_file+'_train_acc.txt','a+') as f:\n",
        "        f.write(\"{}:{}\\n\".format(epoch,str(train_accuracy/len(trainloader))))\n",
        "      with open(save_file+'_test_acc.txt','a+') as f:\n",
        "        f.write(\"{}:{}\\n\".format(epoch,str(test_accuracy/len(testloader))))\n",
        "      with open(save_file+'_train_loss.txt','a+') as f:\n",
        "        f.write(\"{}:{}\\n\".format(epoch,str(train_loss/len(trainloader))))\n",
        "      with open(save_file+'_test_loss.txt','a+') as f:\n",
        "        f.write(\"{}:{}\\n\".format(epoch,str(test_loss/len(testloader))))\n",
        "\n",
        "def validate(model, params, validloader):\n",
        "  save_file = f\"{params['report_dir']}/{params['arch']}/{params['check_name']}\"\n",
        "  valid_loss = 0\n",
        "  valid_accuracy = 0\n",
        "  \n",
        "  # model.eval()\n",
        "  model.eval()\n",
        "  with torch.no_grad():\n",
        "    for images, labels in validloader:\n",
        "          loss, accuracy = step(model, images, labels, params['device'])\n",
        "          valid_loss += loss\n",
        "          valid_accuracy += accuracy\n",
        "\n",
        "  # with open(save_file+'_valid_acc.txt','a+') as f:\n",
        "  #   f.write(\"{}:{}\\n\".format(epoch,str(valid_accuracy/len(validloader))))\n",
        "  # with open(save_file+'_valid_loss.txt','a+') as f:\n",
        "  #   f.write(\"{}:{}\\n\".format(epoch,str(valid_loss/len(validloader))))\n",
        "\n"
      ],
      "metadata": {
        "id": "4_pJg2ZHwprd"
      },
      "execution_count": null,
      "outputs": []
    },
    {
      "cell_type": "code",
      "execution_count": 2,
      "metadata": {
        "id": "TXw4zBUZuqpC"
      },
      "outputs": [],
      "source": [
        "# Imports here\n",
        "import torch\n",
        "from torch import nn, optim\n",
        "from torchvision import datasets, transforms, models\n",
        "from matplotlib import pyplot as plt\n",
        "import os\n",
        "import sys\n",
        "import numpy as np\n",
        "import fc_model\n",
        "import helper\n",
        "from helper_2 import *\n",
        "from random import choice\n"
      ]
    },
    {
      "cell_type": "markdown",
      "metadata": {
        "id": "Id6ttSw0uqpF"
      },
      "source": [
        "## Load the data\n",
        "\n",
        "Here you'll use `torchvision` to load the data ([documentation](http://pytorch.org/docs/0.3.0/torchvision/index.html)). The data should be included alongside this notebook, otherwise you can [download it here](https://s3.amazonaws.com/content.udacity-data.com/nd089/flower_data.tar.gz). The dataset is split into three parts, training, validation, and testing. For the training, you'll want to apply transformations such as random scaling, cropping, and flipping. This will help the network generalize leading to better performance. You'll also need to make sure the input data is resized to 224x224 pixels as required by the pre-trained networks.\n",
        "\n",
        "The validation and testing sets are used to measure the model's performance on data it hasn't seen yet. For this you don't want any scaling or rotation transformations, but you'll need to resize then crop the images to the appropriate size.\n",
        "\n",
        "The pre-trained networks you'll use were trained on the ImageNet dataset where each color channel was normalized separately. For all three sets you'll need to normalize the means and standard deviations of the images to what the network expects. For the means, it's `[0.485, 0.456, 0.406]` and for the standard deviations `[0.229, 0.224, 0.225]`, calculated from the ImageNet images.  These values will shift each color channel to be centered at 0 and range from -1 to 1.\n",
        " "
      ]
    },
    {
      "cell_type": "code",
      "execution_count": null,
      "metadata": {
        "colab": {
          "base_uri": "https://localhost:8080/"
        },
        "id": "wcrT2hV9Eshe",
        "outputId": "bc23cab1-2b46-4adf-d6d7-811f945af5b6"
      },
      "outputs": [
        {
          "output_type": "stream",
          "name": "stdout",
          "text": [
            "vgg16_[]_0.001_4_True_0_\n",
            "train\n"
          ]
        },
        {
          "output_type": "execute_result",
          "data": {
            "text/plain": [
              "<torch.utils.data.dataloader.DataLoader at 0x7fc7ee775e50>"
            ]
          },
          "metadata": {},
          "execution_count": 3
        }
      ],
      "source": [
        "#set up training run\n",
        "    # parser.add_argument('data_dir', type = str)\n",
        "    # parser.add_argument('--save_dir', type = str, default = '')        \n",
        "    # parser.add_argument('--arch', type = str, default = 'densenet121')        \n",
        "    # parser.add_argument('--learning_rate', type = float, default = 0.0001)            \n",
        "    # parser.add_argument('--hidden_units', type = list, default = [])           \n",
        "    # parser.add_argument('--epochs', type = int, default = 100)   \n",
        "    # parser.add_argument('--gpu', type = bool, default = True) \n",
        "    # parser.add_argument('--drop_p', type = float, default = 0.4) \n",
        "\n",
        "\n",
        "train_params = {'data_dir': '/content/gdrive/MyDrive/AI/submission/flowers/',\n",
        "                'save_dir': '/content/gdrive/MyDrive/AI/submission/',\n",
        "                'arch':'vgg16', \n",
        "                'learning_rate': 0.001,\n",
        "                'hidden_units': [],\n",
        "                'epochs': 4, \n",
        "                'gpu': True,\n",
        "                'drop_p': 0,}\n",
        "\n",
        "set_params(train_params)\n",
        "# train_params['epochs'] = 1 \n",
        "\n",
        "# if torch.cuda.is_available() and train_params['gpu']:\n",
        "#   device = torch.device('cuda') \n",
        "# else:\n",
        "#   device = torch.device('cpu')\n",
        "#   train_params['gpu'] = False\n",
        "\n",
        "# print(device)\n",
        "\n",
        "# train_params['check_name'] = \"_\".join([str(key) for key in train_params.values()])\n",
        "\n",
        "# train_params['save_dir'] = home\n",
        "# train_params['data_dir'] = home + 'flowers/'\n",
        "# train_params['report_dir'] = home + 'reports/'\n",
        "# train_params['check_dir'] = home + 'checkpoints/'\n",
        "\n",
        "# train_params['model_dict'] = {'resnet18': models.resnet18, 'resnet50' : models.resnet50, 'alexnet': models.alexnet, \n",
        "#           'vgg16': models.vgg16, 'densenet121' : models.densenet121}\n",
        "\n",
        "# train_params['fcs'] = {'resnet18': ['fc',512], 'resnet50' : ['fc',2048],  'alexnet': ['classifier', 9216],\n",
        "#       'vgg16': ['classifier', 25088], 'densenet121' : ['classifier',1024]}\n",
        "\n",
        "\n",
        "# trainloader, testloader, validloader = helper.get_data(train_params['data_dir'])\n",
        "trainloader, testloader, validloader, class_to_idx = helper.get_data('')\n",
        "trainloader\n"
      ]
    },
    {
      "cell_type": "markdown",
      "metadata": {
        "id": "5KClUdmnuqpH"
      },
      "source": [
        "### Label mapping\n",
        "\n",
        "You'll also need to load in a mapping from category label to category name. You can find this in the file `cat_to_name.json`. It's a JSON object which you can read in with the [`json` module](https://docs.python.org/2/library/json.html). This will give you a dictionary mapping the integer encoded categories to the actual names of the flowers."
      ]
    },
    {
      "cell_type": "code",
      "execution_count": null,
      "metadata": {
        "id": "Fz1nF8MXuqpI"
      },
      "outputs": [],
      "source": [
        "import json\n",
        "\n",
        "with open(home+'cat_to_name.json', 'r') as f:\n",
        "    cat_to_name = train_params['cat_to_name'] = json.load(f)"
      ]
    },
    {
      "cell_type": "markdown",
      "metadata": {
        "id": "BDkF_XBZuqpI"
      },
      "source": [
        "# Building and training the classifier\n",
        "\n",
        "Now that the data is ready, it's time to build and train the classifier. As usual, you should use one of the pretrained models from `torchvision.models` to get the image features. Build and train a new feed-forward classifier using those features.\n",
        "\n",
        "We're going to leave this part up to you. Refer to [the rubric](https://review.udacity.com/#!/rubrics/1663/view) for guidance on successfully completing this section. Things you'll need to do:\n",
        "\n",
        "* Load a [pre-trained network](http://pytorch.org/docs/master/torchvision/models.html) (If you need a starting point, the VGG networks work great and are straightforward to use)\n",
        "* Define a new, untrained feed-forward network as a classifier, using ReLU activations and dropout\n",
        "* Train the classifier layers using backpropagation using the pre-trained network to get the features\n",
        "* Track the loss and accuracy on the validation set to determine the best hyperparameters\n",
        "\n",
        "We've left a cell open for you below, but use as many as you need. Our advice is to break the problem up into smaller parts you can run separately. Check that each part is doing what you expect, then move on to the next. You'll likely find that as you work through each part, you'll need to go back and modify your previous code. This is totally normal!\n",
        "\n",
        "When training make sure you're updating only the weights of the feed-forward network. You should be able to get the validation accuracy above 70% if you build everything right. Make sure to try different hyperparameters (learning rate, units in the classifier, epochs, etc) to find the best model. Save those hyperparameters to use as default values in the next part of the project.\n",
        "\n",
        "One last important tip if you're using the workspace to run your code: To avoid having your workspace disconnect during the long-running tasks in this notebook, please read in the earlier page in this lesson called Intro to\n",
        "GPU Workspaces about Keeping Your Session Active. You'll want to include code from the workspace_utils.py module.\n",
        "\n",
        "<font color='red'>**Note for Workspace users:** If your network is over 1 GB when saved as a checkpoint, there might be issues with saving backups in your workspace. Typically this happens with wide dense layers after the convolutional layers. If your saved checkpoint is larger than 1 GB (you can open a terminal and check with `ls -lh`), you should reduce the size of your hidden layers and train again.</font>"
      ]
    },
    {
      "cell_type": "code",
      "execution_count": null,
      "metadata": {
        "colab": {
          "base_uri": "https://localhost:8080/"
        },
        "id": "epqvDAefNLQn",
        "outputId": "949978c5-b12b-4c86-d280-9a82c6a5c748"
      },
      "outputs": [
        {
          "output_type": "stream",
          "name": "stdout",
          "text": [
            "/content/gdrive/MyDrive/AI/submission/checkpoints/vgg16_[]_0.001_4_True_0_.pth\n",
            "exists\n"
          ]
        }
      ],
      "source": [
        "model, classifier = fc_model.load_model(train_params);\n",
        "\n",
        "model.criterion = nn.NLLLoss();\n",
        "model.optimizer = optim.Adam(classifier.parameters(), lr= train_params['learning_rate']);\n",
        "model.to(train_params['device']);"
      ]
    },
    {
      "cell_type": "code",
      "execution_count": null,
      "metadata": {
        "id": "7Z9_J6Spx_zj"
      },
      "outputs": [],
      "source": [
        "# fc_model.train(model, train_params, trainloader, testloader)\n"
      ]
    },
    {
      "cell_type": "markdown",
      "metadata": {
        "id": "5Q4Lmu2cuqpL"
      },
      "source": [
        "## Testing your network\n",
        "\n",
        "It's good practice to test your trained network on test data, images the network has never seen either in training or validation. This will give you a good estimate for the model's performance on completely new images. Run the test images through the network and measure the accuracy, the same way you did validation. You should be able to reach around 70% accuracy on the test set if the model has been trained well."
      ]
    },
    {
      "cell_type": "code",
      "execution_count": null,
      "metadata": {
        "colab": {
          "base_uri": "https://localhost:8080/"
        },
        "id": "wyUTxFE8uqpL",
        "outputId": "27693dc9-b7b4-49c6-ffe4-ec64757d0022"
      },
      "outputs": [
        {
          "output_type": "stream",
          "name": "stdout",
          "text": [
            "Accuracy:84.375% Loss: 0.5230523943901062 -- False\n",
            "Accuracy:85.9375% Loss: 0.7991471886634827 -- False\n",
            "Accuracy:87.5% Loss: 0.3160184621810913 -- False\n",
            "Accuracy:78.125% Loss: 0.9559482932090759 -- False\n",
            "Accuracy:82.8125% Loss: 1.1069928407669067 -- False\n",
            "Accuracy:90.625% Loss: 0.20883330702781677 -- False\n",
            "Accuracy:93.75% Loss: 0.40888822078704834 -- False\n",
            "Accuracy:92.1875% Loss: 0.3683718740940094 -- False\n",
            "Accuracy:90.625% Loss: 0.5831246376037598 -- False\n",
            "Accuracy:95.3125% Loss: 0.16281451284885406 -- False\n",
            "Accuracy:81.25% Loss: 0.9637933969497681 -- False\n",
            "Accuracy:75.0% Loss: 2.343235731124878 -- False\n",
            "Accuracy:76.0% Loss: 0.8232425451278687 -- False\n"
          ]
        }
      ],
      "source": [
        "import fc_model\n",
        "\n",
        "fc_model.validate(model, train_params, validloader)"
      ]
    },
    {
      "cell_type": "markdown",
      "metadata": {
        "id": "7fVUHHuTuqpM"
      },
      "source": [
        "## Save the checkpoint\n",
        "\n",
        "Now that your network is trained, save the model so you can load it later for making predictions. You probably want to save other things such as the mapping of classes to indices which you get from one of the image datasets: `image_datasets['train'].class_to_idx`. You can attach this to the model as an attribute which makes inference easier later on.\n",
        "\n",
        "```model.class_to_idx = image_datasets['train'].class_to_idx```\n",
        "\n",
        "Remember that you'll want to completely rebuild the model later so you can use it for inference. Make sure to include any information you need in the checkpoint. If you want to load the model and keep training, you'll want to save the number of epochs as well as the optimizer state, `optimizer.state_dict`. You'll likely want to use this trained model in the next part of the project, so best to save it now."
      ]
    },
    {
      "cell_type": "markdown",
      "metadata": {
        "id": "upWloHc1uqpM"
      },
      "source": [
        "## Loading the checkpoint\n",
        "\n",
        "At this point it's good to write a function that can load a checkpoint and rebuild the model. That way you can come back to this project and keep working on it without having to retrain the network."
      ]
    },
    {
      "cell_type": "markdown",
      "metadata": {
        "id": "jH5hPvo_uqpN"
      },
      "source": [
        "# Inference for classification\n",
        "\n",
        "Now you'll write a function to use a trained network for inference. That is, you'll pass an image into the network and predict the class of the flower in the image. Write a function called `predict` that takes an image and a model, then returns the top $K$ most likely classes along with the probabilities. It should look like \n",
        "\n",
        "```python\n",
        "probs, classes = predict(image_path, model)\n",
        "print(probs)\n",
        "print(classes)\n",
        "> [ 0.01558163  0.01541934  0.01452626  0.01443549  0.01407339]\n",
        "> ['70', '3', '45', '62', '55']\n",
        "```\n",
        "\n",
        "First you'll need to handle processing the input image such that it can be used in your network. \n",
        "\n",
        "## Image Preprocessing\n",
        "\n",
        "You'll want to use `PIL` to load the image ([documentation](https://pillow.readthedocs.io/en/latest/reference/Image.html)). It's best to write a function that preprocesses the image so it can be used as input for the model. This function should process the images in the same manner used for training. \n",
        "\n",
        "First, resize the images where the shortest side is 256 pixels, keeping the aspect ratio. This can be done with the [`thumbnail`](http://pillow.readthedocs.io/en/3.1.x/reference/Image.html#PIL.Image.Image.thumbnail) or [`resize`](http://pillow.readthedocs.io/en/3.1.x/reference/Image.html#PIL.Image.Image.thumbnail) methods. Then you'll need to crop out the center 224x224 portion of the image.\n",
        "\n",
        "Color channels of images are typically encoded as integers 0-255, but the model expected floats 0-1. You'll need to convert the values. It's easiest with a Numpy array, which you can get from a PIL image like so `np_image = np.array(pil_image)`.\n",
        "\n",
        "As before, the network expects the images to be normalized in a specific way. For the means, it's `[0.485, 0.456, 0.406]` and for the standard deviations `[0.229, 0.224, 0.225]`. You'll want to subtract the means from each color channel, then divide by the standard deviation. \n",
        "\n",
        "And finally, PyTorch expects the color channel to be the first dimension but it's the third dimension in the PIL image and Numpy array. You can reorder dimensions using [`ndarray.transpose`](https://docs.scipy.org/doc/numpy-1.13.0/reference/generated/numpy.ndarray.transpose.html). The color channel needs to be first and retain the order of the other two dimensions."
      ]
    },
    {
      "cell_type": "code",
      "execution_count": null,
      "metadata": {
        "id": "7uyDoqyguqpO"
      },
      "outputs": [],
      "source": [
        "# TODO: Process a PIL image for use in a PyTorch model\n",
        "def process_image(im):\n",
        "    ''' Scales, crops, and normalizes a PIL image for a PyTorch model,\n",
        "        returns a tensor array'''\n",
        "\n",
        "    sr = 256/min(im.width, im.height)\n",
        "    im = im.resize((int(im.width * sr), int(im.height * sr)))\n",
        "    im = np.array(im)/255\n",
        "    w, h, c = im.shape\n",
        "    im = im[int(w/2-112):int(w/2+112),int(h/2-112):int(h/2+112),:]\n",
        "    tm = conv_trans(im, True)\n",
        "    return tm\n",
        "  \n"
      ]
    },
    {
      "cell_type": "code",
      "execution_count": null,
      "metadata": {
        "id": "LyHIfjtfm_uH"
      },
      "outputs": [],
      "source": [
        "def conv_trans(image_arr, to_model = True):\n",
        "  mean = np.array([0.485, 0.456, 0.406])\n",
        "  std = np.array([0.229, 0.224, 0.225])\n",
        "\n",
        "  if to_model:\n",
        "    print('to_model')\n",
        "    image_arr = std * image_arr + mean\n",
        "    image_arr = np.clip(image_arr, 0, 1)\n",
        "    image_arr = image_arr.transpose((2, 0, 1))\n",
        "    return torch.from_numpy(image_arr).float()\n",
        "  else:\n",
        "    print('from_model')\n",
        "    image_arr = image_arr.numpy().transpose((1,2,0))\n",
        "    image_arr = (image_arr - mean)/std\n",
        "    return image_arr"
      ]
    },
    {
      "cell_type": "markdown",
      "metadata": {
        "id": "Wp_QZ4KluqpO"
      },
      "source": [
        "To check your work, the function below converts a PyTorch tensor and displays it in the notebook. If your `process_image` function works, running the output through this function should return the original image (except for the cropped out portions)."
      ]
    },
    {
      "cell_type": "markdown",
      "metadata": {
        "id": "iHbavkkJuqpO"
      },
      "source": [
        "## Class Prediction\n",
        "\n",
        "Once you can get images in the correct format, it's time to write a function for making predictions with your model. A common practice is to predict the top 5 or so (usually called top-$K$) most probable classes. You'll want to calculate the class probabilities then find the $K$ largest values.\n",
        "\n",
        "To get the top $K$ largest values in a tensor use [`x.topk(k)`](http://pytorch.org/docs/master/torch.html#torch.topk). This method returns both the highest `k` probabilities and the indices of those probabilities corresponding to the classes. You need to convert from these indices to the actual class labels using `class_to_idx` which hopefully you added to the model or from an `ImageFolder` you used to load the data ([see here](#Save-the-checkpoint)). Make sure to invert the dictionary so you get a mapping from index to class as well.\n",
        "\n",
        "Again, this method should take a path to an image and a model checkpoint, then return the probabilities and classes.\n",
        "\n",
        "```python\n",
        "probs, classes = predict(image_path, model)\n",
        "print(probs)\n",
        "print(classes)\n",
        "> [ 0.01558163  0.01541934  0.01452626  0.01443549  0.01407339]\n",
        "> ['70', '3', '45', '62', '55']\n",
        "```"
      ]
    },
    {
      "cell_type": "markdown",
      "metadata": {
        "id": "QWFK3gkQuqpP"
      },
      "source": [
        "## Sanity Checking\n",
        "\n",
        "Now that you can use a trained model for predictions, check to make sure it makes sense. Even if the testing accuracy is high, it's always good to check that there aren't obvious bugs. Use `matplotlib` to plot the probabilities for the top 5 classes as a bar graph, along with the input image. It should look like this:\n",
        "\n",
        "<img src='assets/inference_example.png' width=300px>\n",
        "\n",
        "You can convert from the class integer encoding to actual flower names with the `cat_to_name.json` file (should have been loaded earlier in the notebook). To show a PyTorch tensor as an image, use the `imshow` function defined above."
      ]
    },
    {
      "cell_type": "code",
      "execution_count": null,
      "metadata": {
        "id": "kWreoi9lL-nJ"
      },
      "outputs": [],
      "source": [
        "def view_classify(img, top_p, top_class, idx_to_name):\n",
        "    ''' Function for viewing an image and it's predicted classes.\n",
        "    '''\n",
        "    ps = top_p.cpu().data.numpy().squeeze()\n",
        "    # ps = top_p.data.squeeze()\n",
        "    fig, ax1 = plt.subplots()\n",
        "    img = conv_trans(img, False)\n",
        "    ax1.imshow(img)\n",
        "    fig, ax2 = plt.subplots()\n",
        "    ax2.barh(np.arange(len(ps)), ps)\n",
        "    ax2.set_aspect(0.1)\n",
        "    ax2.set_yticks(np.arange(len(ps)))\n",
        "    top_flower_names = []\n",
        "    for item in top_class.cpu().squeeze().numpy():\n",
        "      top_flower_names.append(idx_to_name[item])\n",
        "\n",
        "    ax2.set_yticklabels(top_flower_names[0:len(ps)])\n",
        "    ax2.set_title('Class Probability')\n",
        "    ax2.set_xlim(0, 1.1)\n",
        "\n",
        "    # plt.tight_layout()"
      ]
    },
    {
      "cell_type": "code",
      "execution_count": null,
      "metadata": {
        "colab": {
          "base_uri": "https://localhost:8080/",
          "height": 540
        },
        "id": "Heo82RHJuqpP",
        "outputId": "4fbfea8c-a329-4512-fd57-4080157e226d"
      },
      "outputs": [
        {
          "output_type": "stream",
          "name": "stderr",
          "text": [
            "Clipping input data to the valid range for imshow with RGB data ([0..1] for floats or [0..255] for integers).\n"
          ]
        },
        {
          "output_type": "stream",
          "name": "stdout",
          "text": [
            "to_model\n",
            "from_model\n"
          ]
        },
        {
          "output_type": "error",
          "ename": "NameError",
          "evalue": "ignored",
          "traceback": [
            "\u001b[0;31m---------------------------------------------------------------------------\u001b[0m",
            "\u001b[0;31mNameError\u001b[0m                                 Traceback (most recent call last)",
            "\u001b[0;32m<ipython-input-11-4a9b1160f1c5>\u001b[0m in \u001b[0;36m<module>\u001b[0;34m()\u001b[0m\n\u001b[1;32m     13\u001b[0m \u001b[0;31m# print(rand_imag)\u001b[0m\u001b[0;34m\u001b[0m\u001b[0;34m\u001b[0m\u001b[0;34m\u001b[0m\u001b[0m\n\u001b[1;32m     14\u001b[0m \u001b[0mmodel\u001b[0m\u001b[0;34m.\u001b[0m\u001b[0mclass_to_idx\u001b[0m \u001b[0;34m=\u001b[0m \u001b[0mclass_to_idx\u001b[0m\u001b[0;34m\u001b[0m\u001b[0;34m\u001b[0m\u001b[0m\n\u001b[0;32m---> 15\u001b[0;31m \u001b[0mtop_p\u001b[0m\u001b[0;34m,\u001b[0m \u001b[0mtop_classes\u001b[0m \u001b[0;34m=\u001b[0m \u001b[0mpredict\u001b[0m\u001b[0;34m(\u001b[0m\u001b[0;34mf\"test/{dir}/{img}\"\u001b[0m\u001b[0;34m,\u001b[0m \u001b[0mmodel\u001b[0m\u001b[0;34m,\u001b[0m \u001b[0mtrain_params\u001b[0m\u001b[0;34m[\u001b[0m\u001b[0;34m'device'\u001b[0m\u001b[0;34m]\u001b[0m\u001b[0;34m,\u001b[0m \u001b[0;36m5\u001b[0m\u001b[0;34m)\u001b[0m\u001b[0;34m\u001b[0m\u001b[0;34m\u001b[0m\u001b[0m\n\u001b[0m\u001b[1;32m     16\u001b[0m \u001b[0mprint\u001b[0m\u001b[0;34m(\u001b[0m\u001b[0mtop_classes\u001b[0m\u001b[0;34m)\u001b[0m\u001b[0;34m\u001b[0m\u001b[0;34m\u001b[0m\u001b[0m\n\u001b[1;32m     17\u001b[0m \u001b[0;34m\u001b[0m\u001b[0m\n",
            "\u001b[0;31mNameError\u001b[0m: name 'predict' is not defined"
          ]
        },
        {
          "output_type": "display_data",
          "data": {
            "image/png": "[encoded data removed]",
            "text/plain": [
              "<Figure size 432x288 with 1 Axes>"
            ]
          },
          "metadata": {
            "needs_background": "light"
          }
        }
      ],
      "source": [
        "# TODO: Display an image along with the top 5 classes\n",
        "import os\n",
        "from PIL import Image\n",
        "from random import choice\n",
        "dir = choice(os.listdir(\"test\"))\n",
        "img = choice(os.listdir(\"test/\"+dir))\n",
        "\n",
        "pil = Image.open(f\"test/{dir}/{img}\")\n",
        "rand_image = process_image(pil)\n",
        "\n",
        "fig, ax= plt.subplots(ncols=1)\n",
        "ax.imshow(conv_trans(rand_image, False))\n",
        "# print(rand_imag)\n",
        "model.class_to_idx = class_to_idx\n",
        "top_p, top_classes = predict(f\"test/{dir}/{img}\", model, train_params['device'], 5)\n",
        "print(top_classes)\n",
        "\n",
        "# fc_model.step(model, rand_image, torch.from_numpy(np.array([int(dir)])), train_params['device'])\n",
        "\n",
        "view_classify(rand_image, top_p, top_classes, idx_to_name)# train_params['cat_to_name'])\n",
        "print(train_params['cat_to_name'][dir])\n",
        "\n"
      ]
    },
    {
      "cell_type": "code",
      "execution_count": null,
      "metadata": {
        "id": "2boFpUy7uqpP"
      },
      "outputs": [],
      "source": [
        "\n",
        "def predict(image_path, model, device, top_k=5):\n",
        "    ''' Predict the class (or classes) of an image using a trained deep learning model.\n",
        "    '''\n",
        "    tn = process_image(Image.open(image_path))\n",
        "\n",
        "    tn = tn[None,:,:,:]\n",
        "    tn = tn.to(device)\n",
        "    model.eval()\n",
        "    # ps = model(tn)\n",
        "    ps = torch.exp(model(tn))\n",
        "    top_p, top_class = ps.topk(top_k, dim=1)\n",
        "    # top_p = top_p.cpu().squeeze().detach().numpy()\n",
        "    # top_class = top_class.cpu().squeeze().detach().numpy()\n",
        "    return top_p, top_class\n",
        "    # TODO: Implement the code to predict the class from an image file\n",
        "\n",
        "# view_classify(process_image(Image.open(\"flowers/test/1/image_06760.jpg\")), classes.cpu())"
      ]
    },
    {
      "cell_type": "code",
      "source": [
        "class_to_idx"
      ],
      "metadata": {
        "id": "__JsD8fkmUL0"
      },
      "execution_count": null,
      "outputs": []
    },
    {
      "cell_type": "code",
      "source": [
        "idx_to_class = {v:k for k,v in class_to_idx.items()}\n",
        "# class_to_idx\n",
        "idx_to_class\n",
        "idx_to_name = {k:cat_to_name[v] for k,v in idx_to_class.items()}\n",
        "idx_to_name"
      ],
      "metadata": {
        "id": "LlPv7FhumavB"
      },
      "execution_count": null,
      "outputs": []
    },
    {
      "cell_type": "code",
      "source": [
        "cat_to_name"
      ],
      "metadata": {
        "id": "bZxuYE0rPcZG"
      },
      "execution_count": null,
      "outputs": []
    },
    {
      "cell_type": "code",
      "execution_count": null,
      "metadata": {
        "id": "qRwfC-nDC1VS"
      },
      "outputs": [],
      "source": [
        "train_params"
      ]
    }
  ],
  "metadata": {
    "accelerator": "GPU",
    "colab": {
      "collapsed_sections": [],
      "machine_shape": "hm",
      "name": "Image Classifier Project_w_model_fc.ipynb",
      "provenance": []
    },
    "kernelspec": {
      "display_name": "Python 3",
      "language": "python",
      "name": "python3"
    },
    "language_info": {
      "codemirror_mode": {
        "name": "ipython",
        "version": 3
      },
      "file_extension": ".py",
      "mimetype": "text/x-python",
      "name": "python",
      "nbconvert_exporter": "python",
      "pygments_lexer": "ipython3",
      "version": "3.6.3"
    }
  },
  "nbformat": 4,
  "nbformat_minor": 0
}